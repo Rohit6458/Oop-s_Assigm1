{
 "cells": [
  {
   "cell_type": "markdown",
   "id": "ba927cb0-afac-4028-bc0d-d0c157ccc78a",
   "metadata": {},
   "source": [
    "1)-> oop's is stand for object oriented programming language oop's contains four pillars we can achive pillars through class. class is blueprint and it contain data(attribute) and method. class is useful to solve real life problem.\n",
    "e.g:- "
   ]
  },
  {
   "cell_type": "code",
   "execution_count": 5,
   "id": "9a0801a4-2299-4ad7-b062-498dd87a399d",
   "metadata": {},
   "outputs": [],
   "source": [
    "class pwskills:\n",
    "    def show(self):\n",
    "        return(\"Welcome to pwskills\")"
   ]
  },
  {
   "cell_type": "code",
   "execution_count": 6,
   "id": "09b652bc-d6dc-4869-88e6-7063cc377b5f",
   "metadata": {},
   "outputs": [],
   "source": [
    "rohit=pwskills()"
   ]
  },
  {
   "cell_type": "code",
   "execution_count": 7,
   "id": "cf40b498-2a9c-432f-8925-46b2da646f3a",
   "metadata": {},
   "outputs": [
    {
     "data": {
      "text/plain": [
       "'Welcome to pwskills'"
      ]
     },
     "execution_count": 7,
     "metadata": {},
     "output_type": "execute_result"
    }
   ],
   "source": [
    "rohit.show()"
   ]
  },
  {
   "cell_type": "markdown",
   "id": "c85bdd9c-bd87-437e-80ea-cd50733e8ac4",
   "metadata": {},
   "source": [
    "2)-> oop's are consists four pillars and they are following\n",
    "1)inheritance\n",
    "2)encapsulation\n",
    "3)abstraction\n",
    "4)Poloymorphism"
   ]
  },
  {
   "cell_type": "markdown",
   "id": "df6a5e6b-07b4-443e-b7e2-fbc63852b70f",
   "metadata": {},
   "source": [
    "3)-> def __init__() is also known as constructor. __init__() is useful to the pass data or argument to the class at time instance it only possible through constructor.\n",
    "e.g:-"
   ]
  },
  {
   "cell_type": "code",
   "execution_count": 14,
   "id": "3e55f3c0-5305-4fc8-8784-781c46b85d2b",
   "metadata": {},
   "outputs": [],
   "source": [
    "class pwskills2:\n",
    "    def __init__(self,a, b):\n",
    "        self.a=a\n",
    "        self.b=b\n",
    "    def add(self):\n",
    "        return(\"Addtion of two number \",(self.a+self.b))"
   ]
  },
  {
   "cell_type": "code",
   "execution_count": 15,
   "id": "53317c00-ebaf-4553-88a8-c92d1f18cc55",
   "metadata": {},
   "outputs": [],
   "source": [
    "rohan=pwskills2(10,20)"
   ]
  },
  {
   "cell_type": "code",
   "execution_count": 16,
   "id": "030e7803-0832-4f84-95ed-8e05cac953cd",
   "metadata": {},
   "outputs": [
    {
     "data": {
      "text/plain": [
       "('Addtion of two number ', 30)"
      ]
     },
     "execution_count": 16,
     "metadata": {},
     "output_type": "execute_result"
    }
   ],
   "source": [
    "rohan.add()"
   ]
  },
  {
   "cell_type": "markdown",
   "id": "80f93a41-105e-4e6a-bdda-90226d27d99e",
   "metadata": {},
   "source": [
    "4)-> self is not any reserved keyword according to you used any word. self is used for reference it tells to class particular data or method are part of our class.\n"
   ]
  },
  {
   "cell_type": "markdown",
   "id": "c3f668c9-3b86-46c9-98f6-da63b7d9c7c2",
   "metadata": {},
   "source": [
    "5)-> Inheritances it means inherit base class property into child class and inheritances are provide reusability feature. inheritances are 5 types \n",
    "a)single inheritances\n",
    "b)multilevel inheritance\n",
    "c)Hybrid inheritance.\n",
    "d)multiple inheritance.\n",
    "e)Hierachical inheritance."
   ]
  },
  {
   "cell_type": "markdown",
   "id": "a612b459-bb14-4647-b752-17c45b65c974",
   "metadata": {},
   "source": [
    "a)Single inheritances"
   ]
  },
  {
   "cell_type": "code",
   "execution_count": 17,
   "id": "bfc13cf2-8518-4400-9360-ae27cb50e4a2",
   "metadata": {},
   "outputs": [],
   "source": [
    "class test1:\n",
    "    def test1(self):\n",
    "        return(\"I am from class1\")"
   ]
  },
  {
   "cell_type": "code",
   "execution_count": 18,
   "id": "5f1e8fdc-4594-4d5c-9163-d3c4a7c8c3f0",
   "metadata": {},
   "outputs": [],
   "source": [
    "class test2(test1):\n",
    "    pass"
   ]
  },
  {
   "cell_type": "code",
   "execution_count": 19,
   "id": "f2f06fe7-e194-42d2-aa5b-0ff2f401102f",
   "metadata": {},
   "outputs": [],
   "source": [
    "a=test2()"
   ]
  },
  {
   "cell_type": "code",
   "execution_count": 20,
   "id": "67290a57-5c53-42d2-8c37-b69e1a290263",
   "metadata": {},
   "outputs": [
    {
     "data": {
      "text/plain": [
       "'I am from class1'"
      ]
     },
     "execution_count": 20,
     "metadata": {},
     "output_type": "execute_result"
    }
   ],
   "source": [
    "a.test1()"
   ]
  },
  {
   "cell_type": "markdown",
   "id": "427882ec-d959-4aea-a1d4-f1d9c1a59789",
   "metadata": {},
   "source": [
    "b)Multilevel Inheritances"
   ]
  },
  {
   "cell_type": "code",
   "execution_count": 27,
   "id": "ebf9ecab-35ab-4ed8-8bbb-4a9966108b1f",
   "metadata": {},
   "outputs": [],
   "source": [
    "class test1:\n",
    "    def test1(self):\n",
    "        return(\"I am in class 1\")"
   ]
  },
  {
   "cell_type": "code",
   "execution_count": 28,
   "id": "f3a125ec-e3fa-4bf1-96fb-4606d6d04555",
   "metadata": {},
   "outputs": [],
   "source": [
    "class test2(test1):\n",
    "    def test2(self):\n",
    "        return(\"I am in class2\")"
   ]
  },
  {
   "cell_type": "code",
   "execution_count": 29,
   "id": "438eff08-725e-429e-8ff9-2418b8ac18d0",
   "metadata": {},
   "outputs": [],
   "source": [
    "class test3(test2):\n",
    "    def test3(self):\n",
    "        return(\"I am in class3\")"
   ]
  },
  {
   "cell_type": "code",
   "execution_count": 30,
   "id": "ea596455-e2ab-44c6-a750-bb215207f8fe",
   "metadata": {},
   "outputs": [],
   "source": [
    "a=test3()"
   ]
  },
  {
   "cell_type": "code",
   "execution_count": 31,
   "id": "3ada60fb-99e4-4435-9cb9-d8eb7970d48f",
   "metadata": {},
   "outputs": [
    {
     "data": {
      "text/plain": [
       "'I am in class 1'"
      ]
     },
     "execution_count": 31,
     "metadata": {},
     "output_type": "execute_result"
    }
   ],
   "source": [
    "a.test1()"
   ]
  },
  {
   "cell_type": "code",
   "execution_count": 32,
   "id": "3307a144-1235-4161-997a-2cc7bf54fca0",
   "metadata": {},
   "outputs": [
    {
     "data": {
      "text/plain": [
       "'I am in class2'"
      ]
     },
     "execution_count": 32,
     "metadata": {},
     "output_type": "execute_result"
    }
   ],
   "source": [
    "a.test2()"
   ]
  },
  {
   "cell_type": "markdown",
   "id": "8d076b5a-1d06-4d92-abd0-1735492aa5ca",
   "metadata": {},
   "source": [
    "c)Multilevel inheritance"
   ]
  },
  {
   "cell_type": "code",
   "execution_count": 37,
   "id": "6d7039c5-ca76-45cf-aec1-c5816bab2d5f",
   "metadata": {},
   "outputs": [],
   "source": [
    "class father:\n",
    "    def father(self):\n",
    "        return(\"I am father class\")"
   ]
  },
  {
   "cell_type": "code",
   "execution_count": 39,
   "id": "653a140a-fbe7-4040-911b-d17b9863caab",
   "metadata": {},
   "outputs": [],
   "source": [
    "class mother:\n",
    "    def mother(self):\n",
    "        return(\"I am mother class\")"
   ]
  },
  {
   "cell_type": "code",
   "execution_count": 40,
   "id": "96dda306-3ebe-439b-8ce5-d7bf640cff36",
   "metadata": {},
   "outputs": [],
   "source": [
    "class child(father, mother):\n",
    "    pass"
   ]
  },
  {
   "cell_type": "code",
   "execution_count": 41,
   "id": "0bbc67d7-161d-4406-9ad8-bed4f196540b",
   "metadata": {},
   "outputs": [],
   "source": [
    "a=child()"
   ]
  },
  {
   "cell_type": "code",
   "execution_count": 42,
   "id": "15e9ff37-53b3-4ffe-9bd4-fea69688d98e",
   "metadata": {},
   "outputs": [
    {
     "data": {
      "text/plain": [
       "'I am father class'"
      ]
     },
     "execution_count": 42,
     "metadata": {},
     "output_type": "execute_result"
    }
   ],
   "source": [
    "a.father()"
   ]
  },
  {
   "cell_type": "code",
   "execution_count": 44,
   "id": "d6bd7faf-0905-4656-86f0-669b21d87a08",
   "metadata": {},
   "outputs": [
    {
     "data": {
      "text/plain": [
       "'I am mother class'"
      ]
     },
     "execution_count": 44,
     "metadata": {},
     "output_type": "execute_result"
    }
   ],
   "source": [
    "a.mother()"
   ]
  },
  {
   "cell_type": "markdown",
   "id": "6e75d7da-fd9c-48f8-907e-7233b7c61adb",
   "metadata": {},
   "source": [
    "d)Hybrid inheritances"
   ]
  },
  {
   "cell_type": "code",
   "execution_count": 50,
   "id": "890dfb35-82df-4ec6-90d4-1061936a92c2",
   "metadata": {},
   "outputs": [],
   "source": [
    "class A:\n",
    "    def A(self):\n",
    "        return(\"I am class A\")"
   ]
  },
  {
   "cell_type": "code",
   "execution_count": 51,
   "id": "baa0ed32-d533-4781-9b16-6b7f30b64f22",
   "metadata": {},
   "outputs": [],
   "source": [
    "class B(A):\n",
    "    def B(self):\n",
    "        return(\"I am class B\")"
   ]
  },
  {
   "cell_type": "code",
   "execution_count": 52,
   "id": "c538668f-862b-47ef-8b6f-c944d991c691",
   "metadata": {},
   "outputs": [],
   "source": [
    "class c:\n",
    "    def c(self):\n",
    "        return(\"I am class c\")"
   ]
  },
  {
   "cell_type": "code",
   "execution_count": 54,
   "id": "90085106-ba81-4019-ac50-656496a47227",
   "metadata": {},
   "outputs": [],
   "source": [
    "class D(B, c):\n",
    "    def D(self):\n",
    "        return(\"I am class D\")"
   ]
  },
  {
   "cell_type": "code",
   "execution_count": 55,
   "id": "9de00379-8bf2-4205-92a3-bd4d3616ef98",
   "metadata": {},
   "outputs": [],
   "source": [
    "d=D()"
   ]
  },
  {
   "cell_type": "code",
   "execution_count": 56,
   "id": "937a7aaa-d791-42a3-960f-06c2182e9b5f",
   "metadata": {},
   "outputs": [
    {
     "data": {
      "text/plain": [
       "'I am class A'"
      ]
     },
     "execution_count": 56,
     "metadata": {},
     "output_type": "execute_result"
    }
   ],
   "source": [
    "d.A()"
   ]
  },
  {
   "cell_type": "code",
   "execution_count": 57,
   "id": "23f96074-ea03-426b-9b0c-bc4c7f3d072f",
   "metadata": {},
   "outputs": [
    {
     "data": {
      "text/plain": [
       "'I am class c'"
      ]
     },
     "execution_count": 57,
     "metadata": {},
     "output_type": "execute_result"
    }
   ],
   "source": [
    "d.c()"
   ]
  },
  {
   "cell_type": "markdown",
   "id": "0d8a3b5c-0d1b-4de8-9f46-b6715c343deb",
   "metadata": {},
   "source": [
    "e)Hierachical Inheritances"
   ]
  },
  {
   "cell_type": "code",
   "execution_count": 59,
   "id": "ee874754-8b16-4b56-87ad-18b02580055d",
   "metadata": {},
   "outputs": [],
   "source": [
    "class Parent:\n",
    "    def A(self):\n",
    "        return(\"Parent class\")"
   ]
  },
  {
   "cell_type": "code",
   "execution_count": 61,
   "id": "72754317-5028-4fd9-994e-52621f80bbfe",
   "metadata": {},
   "outputs": [],
   "source": [
    "class child1(Parent):\n",
    "    def child1(self):\n",
    "        return(\"child class1\")"
   ]
  },
  {
   "cell_type": "code",
   "execution_count": 62,
   "id": "fe8b55ff-a79b-4fa9-b2bc-0415ab86c2c3",
   "metadata": {},
   "outputs": [],
   "source": [
    "class child2(Parent):\n",
    "    def child2(self):\n",
    "        return(\"child class2\")"
   ]
  },
  {
   "cell_type": "code",
   "execution_count": 63,
   "id": "2e664433-9836-4534-ad66-27e981ef3f9c",
   "metadata": {},
   "outputs": [],
   "source": [
    "class child3(Parent):\n",
    "    def child3(self):\n",
    "        return(\"child class3\")"
   ]
  },
  {
   "cell_type": "code",
   "execution_count": 64,
   "id": "9c5e4ac4-6e3d-4ee4-8da3-da8f47be781c",
   "metadata": {},
   "outputs": [],
   "source": [
    "child1=Parent()"
   ]
  },
  {
   "cell_type": "code",
   "execution_count": null,
   "id": "f854be97-4a1a-4fc6-a83d-6a625607475c",
   "metadata": {},
   "outputs": [],
   "source": [
    "child1.P"
   ]
  }
 ],
 "metadata": {
  "kernelspec": {
   "display_name": "Python 3 (ipykernel)",
   "language": "python",
   "name": "python3"
  },
  "language_info": {
   "codemirror_mode": {
    "name": "ipython",
    "version": 3
   },
   "file_extension": ".py",
   "mimetype": "text/x-python",
   "name": "python",
   "nbconvert_exporter": "python",
   "pygments_lexer": "ipython3",
   "version": "3.10.8"
  }
 },
 "nbformat": 4,
 "nbformat_minor": 5
}
